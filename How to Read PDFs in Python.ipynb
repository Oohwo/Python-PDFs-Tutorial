{
 "cells": [
  {
   "cell_type": "markdown",
   "id": "fec03a86",
   "metadata": {},
   "source": [
    "# How to Read PDFs in Python\n",
    "##### Author: Rachel Sacdalan\n",
    "##### Created: 07/01/2022"
   ]
  },
  {
   "cell_type": "markdown",
   "id": "6d1d1ed0",
   "metadata": {},
   "source": [
    "## Table of Contents\n",
    "1. [Set-Up](#setup)\n",
    "2. [Code](#code)\n",
    "3. [Next Steps](#nextSteps)\n",
    "4. [Sources](#sources)"
   ]
  },
  {
   "cell_type": "markdown",
   "id": "54f8ea3f",
   "metadata": {},
   "source": [
    "## Set-Up <a name=\"setup\"></a>\n",
    "\n",
    "Libraries Used:\n",
    "- `PyPDF2`\n",
    "- `requests`"
   ]
  },
  {
   "cell_type": "markdown",
   "id": "d23b0954",
   "metadata": {},
   "source": [
    "## Code <a name=\"code\"></a>"
   ]
  },
  {
   "cell_type": "markdown",
   "id": "0241b9be",
   "metadata": {},
   "source": [
    "### Local PDF <a name=\"localPDF\"></a>\n",
    "After downloading your desired PDF onto your computer, we read in the PDF with `PyPDF2`'s `PdfReader`.\n",
    "\n",
    "We then print out the first page onto the console.\n",
    "\n",
    "Steps:\n",
    "1. Download the Desired PDF\n",
    "2. Read in the PDF with `PyPDF2`'s `PdfReader`\n",
    "3. Print out the first page"
   ]
  },
  {
   "cell_type": "code",
   "execution_count": 35,
   "id": "227ab696",
   "metadata": {
    "scrolled": false
   },
   "outputs": [
    {
     "name": "stdout",
     "output_type": "stream",
     "text": [
      "  Bee Movie Script\n",
      " \n",
      " According to all known laws of aviation, there is no way a bee should be able to fly.\n",
      "  \n",
      " Its wings are too small to get its fat little body off the ground. The bee, of\n",
      "  \n",
      " course, flies anyway because bees don't care what humans think is impossible.\n",
      "  \n",
      " Yellow, black. Yellow, black. Yellow, black. Yellow, black. Ooh, black and yellow! Let's\n",
      "  \n",
      " shake it up a little. Barry! Breakfast is ready! Ooming! Hang on a second. Hello? -\n",
      "  \n",
      " Barry? - Adam? - Oan you believe this is happening? - I can't. I'll pick you up.\n",
      "  \n",
      " Looking sharp. Use the stairs. Your father paid good money for those. Sorry. I'm\n",
      "  \n",
      " excited. Here's the graduate. We're very proud of you, son. A perfect report card,\n",
      "  \n",
      " all B's. Very proud. Ma! I got a thing going here. - You got lint on your fuzz. - Ow!\n",
      "  \n",
      " That's me! - Wave to us! We'll be in row 118,000. - Bye! Barry, I told you, stop\n",
      "  \n",
      " flying in the house! - Hey, Adam. - Hey, Barry. - Is that fuzz gel? - A little. Special\n",
      "  \n",
      " day, graduation. Never thought I'd make it. Three days grade school, three days\n",
      "  \n",
      " high school. Those were awkward. Three days college. I'm glad I took a day and\n",
      "  \n",
      " hitchhiked around the hive. You did come back different. - Hi, Barry. - Artie,\n",
      "  \n",
      " growing a mustache? Looks good. - Hear about Frankie? - Yeah. - You going to the\n",
      "  \n",
      " funeral? - No, I'm not going. Everybody knows, sting someone, you die. Don't waste\n",
      "  \n",
      " it on a squirrel. Such a hothead. I guess he could have just gotten out of the way. I\n",
      "  \n",
      " love this incorporating an amusement park into our day. That's why we don't need\n",
      "  \n",
      " vacations. Boy, quite a bit of pomp... under the circumstances. - Well, Adam, today\n",
      "  \n",
      " we are men. - We are! - Bee-men. - Amen! Hallelujah! Students, faculty,\n",
      "  \n",
      " distinguished bees, please welcome Dean Buzzwell. Welcome, New Hive Oity\n",
      "  \n",
      " graduating class of... ...9:15. That concludes our ceremonies. And begins your career\n",
      "  \n",
      " at Honex Industries! Will we pick ourjob today? I heard it's just orientation.\n",
      "  \n",
      " Heads up! Here we go. Keep your hands and antennas inside the tram at all times. -\n",
      "  \n",
      " Wonder what it'll be like? - A little scary. Welcome to Honex, a division of Honesco\n",
      "  \n",
      " and a part of the Hexagon Group. This is it! Wow. Wow. We know that you, as a\n",
      "  \n",
      " bee, have worked your whole life to get to the point where you can work for your\n",
      "  \n",
      " whole life. Honey begins when our valiant Pollen Jocks bring the nectar to the hive.\n",
      "  \n",
      " Our top-secret formula is automatically color-corrected, scent-adjusted and\n",
      "  \n",
      " bubble-contoured into this soothing sweet syrup with its distinctive golden glow\n",
      "  \n",
      " you know as... Honey! - That girl was hot. - She's my cousin! - She is? - Yes, we're\n",
      "  \n"
     ]
    }
   ],
   "source": [
    "from PyPDF2 import PdfReader\n",
    "\n",
    "myPDF = \"BeeMovieScript.pdf\" # filepath\n",
    "\n",
    "reader = PdfReader(myPDF)\n",
    "page = reader.pages[0]\n",
    "print(page.extract_text())"
   ]
  },
  {
   "cell_type": "markdown",
   "id": "8533079d",
   "metadata": {},
   "source": [
    "### PDF from a website\n",
    "\n",
    "After finding the URL of the PDF you want to download\n",
    "\n",
    "Steps:\n",
    "1. Find the URL of the desired PDF\n",
    "2. Request the URL and get a `response`\n",
    "3. Save the `response` into a new PDF on your local computer\n",
    "4. Close the PDF"
   ]
  },
  {
   "cell_type": "code",
   "execution_count": 36,
   "id": "134c7f61",
   "metadata": {
    "scrolled": true
   },
   "outputs": [
    {
     "name": "stdout",
     "output_type": "stream",
     "text": [
      "Downloading file: \n",
      "File downloaded\n",
      "All PDF files downloaded\n"
     ]
    }
   ],
   "source": [
    "import requests\n",
    "\n",
    "url = \"https://www3.nd.edu/~instres/CDS/2021-2022/CDS_2021-2022.pdf\"\n",
    "\n",
    "print(\"Downloading file: \")\n",
    "response = requests.get(url)\n",
    "  \n",
    "pdf = open(\"CDS.pdf\", 'wb')\n",
    "pdf.write(response.content)\n",
    "pdf.close()\n",
    "print(\"File downloaded\")\n",
    "  \n",
    "print(\"All PDF files downloaded\")"
   ]
  },
  {
   "cell_type": "markdown",
   "id": "a4074f0c",
   "metadata": {},
   "source": [
    "### Follow [Local PDF](#localPDF) Steps"
   ]
  },
  {
   "cell_type": "code",
   "execution_count": 37,
   "id": "8b709847",
   "metadata": {
    "scrolled": true
   },
   "outputs": [
    {
     "name": "stdout",
     "output_type": "stream",
     "text": [
      "Common Data Set 2021-2022\n",
      "CDS-AP\n",
      "age 1\n",
      "\n",
      "A0\n",
      "Respondent Information (Not for Publication)\n",
      "\n",
      "Name:\n",
      "Title:\n",
      "Office:\n",
      "\n",
      "\n",
      "Office of Strategic Planning & Institutional \n",
      "Research\n",
      "\n",
      "Mailing Address:\n",
      "401 Grace Hall\n",
      "\n",
      "City/State/Zip/Country:\n",
      "\n",
      " Notre Dame, IN 46556\n",
      "Phone:\n",
      "\n",
      " (574) 631-2848\n",
      "\n",
      "Fax:\n",
      "\n",
      " (574) 631-9235\n",
      "\n",
      "E-mail Address:\n",
      "\n",
      "instres@nd.edu\n",
      "X\n",
      "Yes\n",
      "\n",
      "No\n",
      "If yes, please provide the URL of the corresponding Web page:\n",
      "A0A\n",
      "A1\n",
      "Address Information\n",
      "\n",
      "\n",
      "Name of College/University:\n",
      " University of Notre Dame\n",
      "Mailing Address:\n",
      "\n",
      "City/State/Zip/Country:\n",
      "\n",
      " Notre Dame, IN  46556\n",
      "Street Address (if different):\n",
      "\n",
      "City/State/Zip/Country:\n",
      "Main Phone Number:\n",
      " (574) 631-5000\n",
      "WWW Home Page Address:\n",
      "\n",
      "www.nd.edu\n",
      "Admissions Phone Number:\n",
      "(574) 631-7505\n",
      "Admissions Toll-Free Phone Number:\n",
      "Admissions Office Mailing Address:\n",
      "\n",
      "McKenna Hall\n",
      "\n",
      "City/State/Zip/Country:\n",
      "\n",
      " Notre Dame, IN 46556\n",
      "\n",
      "Admissions Fax Number:\n",
      " (574) 631-8865\n",
      "Admissions E-mail Address:\n",
      "\n",
      "admissions@nd.edu\n",
      "\n",
      "\n",
      "A2\n",
      "\n",
      "Public\n",
      "\n",
      "\n",
      "X\n",
      "Private (nonprofit)\n",
      "Proprietary\n",
      "\n",
      "\n",
      "A3\n",
      "Classify your undergraduate institution:\n",
      "\n",
      "\n",
      "X\n",
      "Coeducational college\n",
      "\n",
      "Men's college\n",
      "Women's college\n",
      "\n",
      "\n",
      "A4\n",
      "Academic year calendar:\n",
      "\n",
      "X\n",
      "\n",
      "Semester\n",
      "\n",
      "Quarter\n",
      "Trimester\n",
      "4-1-4\n",
      "Continuous\n",
      "Differs by program (describe):\n",
      "Other (describe):\n",
      "\n",
      "Source of institutional control (Check only one):If there is a separate URL for your school’s online application, please specify:\n",
      "\n",
      "\n",
      "admissions.nd.edu/apply\n",
      "If you have a mailing address other than the above to which applications should be sent, please provide:\n",
      "\n",
      "If your academic year has changed because of the \n",
      "\n",
      "COVID-19 pandemic, please indicate as other \n",
      "\n",
      "below.A.  General Information\n",
      "\n",
      "We invite you to indicate if there are items on the CDS for which you cannot use the requested analytic \n",
      "\n",
      "convention, cannot provide data for the cohort requested, whose methodology is unclear, or about which \n",
      "you have questions or comments in general. This information will not be published but will help the \n",
      "publishers further refine CDS items.\n",
      "\n",
      "https://ospir.nd.edu/institutional-research/common-data-set-cds/common-data-set Are your responses to the CDS posted for \n",
      "reference on your institution's Web site?\n"
     ]
    }
   ],
   "source": [
    "reader = PdfReader(\"CDS1.pdf\")\n",
    "page = reader.pages[0] # prints first page of PDF\n",
    "print(page.extract_text())"
   ]
  },
  {
   "cell_type": "markdown",
   "id": "5b7cb4d0",
   "metadata": {},
   "source": [
    "## Next Steps <a name=\"nextSteps\"></a>\n",
    "- Instead of printing out the first page of the PDF, print ALL the pages\n",
    "- Conduct analysis and build a report\n",
    "    - Work on \"College UnConfidential\" Project\n",
    "- \"Text Mine\""
   ]
  },
  {
   "cell_type": "markdown",
   "id": "3dcc44a3",
   "metadata": {},
   "source": [
    "## Sources <a name=\"sources\"></a>\n",
    "- [PyPDF2 Documentation](https://pypdf2.readthedocs.io/en/latest/)\n",
    "- [Converting PDF to Text](https://www.askpython.com/python/examples/convert-pdf-to-txt)\n",
    "- [Bee Movie Script Copypasta](https://www.reddit.com/r/copypasta/comments/aair93/bee_movie_script/)\n",
    "- [Notre Dame Common Data Set](https://www3.nd.edu/~instres/CDS/2021-2022/CDS_2021-2022.pdf)\n",
    "- [Schema Errors on Stack Overflow](https://stackoverflow.com/questions/30770213/no-schema-supplied-and-other-errors-with-using-requests-get)\n",
    "- [Downloading PDFs with Python using Requests and Beautiful Soup](https://www.geeksforgeeks.org/downloading-pdfs-with-python-using-requests-and-beautifulsoup/)"
   ]
  }
 ],
 "metadata": {
  "kernelspec": {
   "display_name": "Python 3 (ipykernel)",
   "language": "python",
   "name": "python3"
  },
  "language_info": {
   "codemirror_mode": {
    "name": "ipython",
    "version": 3
   },
   "file_extension": ".py",
   "mimetype": "text/x-python",
   "name": "python",
   "nbconvert_exporter": "python",
   "pygments_lexer": "ipython3",
   "version": "3.9.7"
  }
 },
 "nbformat": 4,
 "nbformat_minor": 5
}
